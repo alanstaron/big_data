{
 "cells": [
  {
   "cell_type": "markdown",
   "metadata": {
    "collapsed": true,
    "id": "Dh8MkXaG-c9Y"
   },
   "source": [
    "# Curso de Big Data\n",
    "\n",
    "## Trabajo Práctico 1 - Parte 1"
   ]
  },
  {
   "cell_type": "markdown",
   "metadata": {},
   "source": [
    "### Grupo: \n",
    "\n",
    "* Alexander Pacheco\n",
    "* Rafael Paganini\n",
    "* Alan Starobinski"
   ]
  },
  {
   "cell_type": "markdown",
   "metadata": {
    "id": "RhBlm6mZ-c9e"
   },
   "source": [
    "### Reglas de formato y presentación\n",
    "- El trabajo debe estar bien comentado (utilizando #) para que el código sea fácil de entender por sus compañeros y profesores.\n",
    "\n",
    "- El mismo debe ser completado en este Jupyter Notebook y entregado como tal, es decir en un archivo .ipynb\n"
   ]
  },
  {
   "cell_type": "markdown",
   "metadata": {
    "id": "ZEjGaa4U-c9g"
   },
   "source": [
    "### Fecha de entrega:\n",
    "Miércoles 4 de octubre a las 23:59hs"
   ]
  },
  {
   "cell_type": "markdown",
   "metadata": {
    "id": "N9TU2y7E-c9h"
   },
   "source": [
    "### Modalidad de entrega\n",
    "- Al finalizar el trabajo práctico deben hacer un último <i>commit</i> en su repositorio de GitHub con el mensaje “Entrega final del tp”. \n",
    "- Asegurense de haber creado una carpeta llamada TP1. Este Jupyter Notebook y el correspondiente al TP1 - Parte 2 deben estar dentro de esa carpeta.\n",
    "- También deben completar el link de su repositorio -para que pueda ser clonado y corregido- en la siguiente google sheet: https://docs.google.com/spreadsheets/d/11nJY1Frgla45sTgsPiSeOZM9iBM-XRWh/edit?usp=sharing&ouid=105815768529474116534&rtpof=true&sd=true\n",
    "- La última versión en el repositorio es la que será evaluada. Por lo que es importante que: \n",
    "    - No completen la google sheet hasta no haber terminado y estar seguros de que han hecho el <i>commit y push</i> a la versión final que quieren entregar. Debido a que se pueden tomar hasta 3 días de extensión a lo largo del curso, no se  corregirán sus tareas hasta no ver el link en la google sheet.\n",
    "    - No hagan nuevos <i>push</i> despues de haber entregado su versión final. Esto generaría confusión acerca de que versión es la que quieren que se les corrija. "
   ]
  },
  {
   "cell_type": "markdown",
   "metadata": {
    "id": "ZXbrPraa-c9i"
   },
   "source": [
    "#### Ejercicio 1\n",
    "Este ejercicio simplemente busca repasar lo que aprendimos sobre definición de variables. Definir dos variables con un nombre combinado (al menos dos palabras), una que se pueda crear y otra que tenga un nombre inaceptable (genera error). Explicar por qué ocurre el error."
   ]
  },
  {
   "cell_type": "code",
   "execution_count": 1,
   "metadata": {
    "id": "mb7PkXfN-c9j"
   },
   "outputs": [],
   "source": [
    "# Caso A\n",
    "nota_parcial = 8\n"
   ]
  },
  {
   "cell_type": "code",
   "execution_count": 2,
   "metadata": {},
   "outputs": [
    {
     "ename": "SyntaxError",
     "evalue": "cannot assign to True (2527629319.py, line 3)",
     "output_type": "error",
     "traceback": [
      "\u001b[0;36m  Input \u001b[0;32mIn [2]\u001b[0;36m\u001b[0m\n\u001b[0;31m    True = \"Hola mundo\"\u001b[0m\n\u001b[0m    ^\u001b[0m\n\u001b[0;31mSyntaxError\u001b[0m\u001b[0;31m:\u001b[0m cannot assign to True\n"
     ]
    }
   ],
   "source": [
    "# Caso B (acá debería saltar un error)\n",
    "\n",
    "True = \"Hola mundo\"\n",
    "\n",
    "# El error producido se debe a que \"True\" es una palabra reservada de Python"
   ]
  },
  {
   "cell_type": "markdown",
   "metadata": {},
   "source": [
    "#### Ejercicio 2\n",
    "Importar módulos. Usando el módulo math impriman la tangente de 1. ¿Cuál es el resultado?\n",
    "Hagan este cálculo de dos formas: primero importando el módulo math y usando la función correspondiente y luego solo importando la función específica que precisan para el cálculo."
   ]
  },
  {
   "cell_type": "code",
   "execution_count": 3,
   "metadata": {},
   "outputs": [
    {
     "name": "stdout",
     "output_type": "stream",
     "text": [
      "1.557407724654902\n",
      "1.557407724654902\n"
     ]
    }
   ],
   "source": [
    "# Caso A\n",
    "\n",
    "# Se importa el módulo math que contiene la función tan\n",
    "import math\n",
    "\n",
    "# Se imprime el resultado\n",
    "print(math.tan(1))\n",
    "\n",
    "\n",
    "# Caso B\n",
    "\n",
    "# Se importa la función tan del módulo math\n",
    "from math import tan\n",
    "\n",
    "# Se imprime el resultado\n",
    "print(tan(1))\n",
    "\n",
    "# En ambos casos, se obtiene el mismo resultado 1.557407724654902"
   ]
  },
  {
   "cell_type": "markdown",
   "metadata": {
    "id": "GlNh0fyv-c9l"
   },
   "source": [
    "#### Ejercicio 3 \n",
    "Este ejercicio trata sobre lograr el intercambio de valores entre dos variables utilizando una variable temporal para hacerlo. Las variables temporales y la sustitución de valores termina siendo útil en algunos loops. Los pasos a seguir son: (a) definir variables A y B (cuyos valores buscaremos invertir); (b) definir una variable temporal que resguarde el valor de B; (c) sustitución (asignar B igual a A y también A igual al valor original de B); (d) imprimir valores para verificar."
   ]
  },
  {
   "cell_type": "code",
   "execution_count": 4,
   "metadata": {
    "id": "uWalSYFC-c9m"
   },
   "outputs": [
    {
     "name": "stdout",
     "output_type": "stream",
     "text": [
      "2\n",
      "1\n"
     ]
    }
   ],
   "source": [
    "# a) Definir variables A y B, \n",
    "a = 1\n",
    "b = 2\n",
    "\n",
    "# b) Definir variable temporal \"tmp\" igual a B (la variable, no el valor)\n",
    "\n",
    "temp = b\n",
    "\n",
    "\n",
    "# c) Ahora sustituir variables: variable B igual a variable A (la variable, no el\n",
    "# valor) y viceversa.\n",
    "\n",
    "b = a\n",
    "\n",
    "a = temp\n",
    "\n",
    "\n",
    "# d) Verifiquemos resultados: imprimir variables A y B\n",
    "print(a)\n",
    "print(b)"
   ]
  },
  {
   "cell_type": "markdown",
   "metadata": {
    "id": "wXhAaRyN-c9p"
   },
   "source": [
    "#### Ejercicio 4\n",
    "En este ejercicio se busca poner en práctica el uso de range() en un for loop. \n",
    "\n",
    "Construir un for loop usando un range(). El range debe ser entre los valores que quieran (con una diferencia mínima de 15 entre start y stop), en incrementos de 3 unidades. Dentro del loop, implementar una sentencia condicional que imprima una leyenda indicando si el input es par o impar."
   ]
  },
  {
   "cell_type": "code",
   "execution_count": 5,
   "metadata": {
    "id": "_oE5sG0c-c9q"
   },
   "outputs": [
    {
     "name": "stdout",
     "output_type": "stream",
     "text": [
      "1 es impar\n",
      "4 es par\n",
      "7 es impar\n",
      "10 es par\n",
      "13 es impar\n",
      "16 es par\n",
      "19 es impar\n"
     ]
    }
   ],
   "source": [
    "# Resolver acá\n",
    "\n",
    "# Se construye un loop mediante el cual se recorrerá a través de los valores generados entre 1 y 20 cada 3 unidades.\n",
    "# Estos valores se identificarán como par o impar si el residuo de la división entre 2 es 0 o diferente de 0, respectivamente.\n",
    "\n",
    "for val in range(1,20,3):\n",
    "    if val%2 == 0:\n",
    "        print(val, \"es par\")\n",
    "    elif val%2 != 0:\n",
    "        print(val, \"es impar\")"
   ]
  },
  {
   "cell_type": "markdown",
   "metadata": {
    "id": "h3g5bXUB-c9u"
   },
   "source": [
    "#### Ejercicio 5\n",
    "Para practicar el uso de condiciones lógicas y la definición de funciones, construir una función con una sentencia condicional que verifique si un año es bisiesto o no. Para que un año sea bisiesto debe cumplir una de dos condiciones:\n",
    "\n",
    "(a) que sea divisible por 400; o\n",
    "\n",
    "(b) que sea divisible por 4 y no sea divisible por 100\n",
    "\n",
    "Notar que son dos condiciones, donde la segunda condición tiene dos componentes. Prueben la función con 3 valores para verificar que funcione."
   ]
  },
  {
   "cell_type": "code",
   "execution_count": 6,
   "metadata": {
    "id": "7_MnILdz-c9v"
   },
   "outputs": [
    {
     "name": "stdout",
     "output_type": "stream",
     "text": [
      "2012 es bisiesto\n",
      "2015 no es bisiesto\n",
      "2020 es bisiesto\n"
     ]
    }
   ],
   "source": [
    "# Resolver acá\n",
    "\n",
    "# Se define la función bisiesto la cual tiene como argumento a \"year\". Se define que si el valor tiene un residuo igual\n",
    "# a cero al dividirse entre 400, entonces se imprime que el año es bisiesto. Además, si este valor es divisible\n",
    "# por 4, pero no por 100, entonces se imprime que también es bisiesto. Si no se cumplen las condiciones mencionadas,\n",
    "# se imprimirá que el año no es bisiesto\n",
    "def bisiesto(year):\n",
    "    if year % 400 ==0:\n",
    "        print(year, \"es bisiesto\")\n",
    "    elif year % 4 == 0 and year % 100 != 0:\n",
    "        print(year, \"es bisiesto\")\n",
    "    else:\n",
    "        print(year, \"no es bisiesto\")\n",
    "\n",
    "# Se prueba la función con los años 2012, 2015 y 2020\n",
    "bisiesto(2012)\n",
    "bisiesto(2015)\n",
    "bisiesto(2020)"
   ]
  },
  {
   "cell_type": "markdown",
   "metadata": {
    "collapsed": true,
    "id": "P3a7bJkd-c9w"
   },
   "source": [
    "#### Ejercicio 6 \n",
    "Pongamos en práctica identificar el type() de cada variable. A continuación tenemos una lista con elementos de diferentes tipos. Construyan un for loop que itere sobre la lista e imprima un cartel indicando el tipo de dato u objeto que hay en cada caso."
   ]
  },
  {
   "cell_type": "code",
   "execution_count": 7,
   "metadata": {
    "id": "jDf4d_Wr-c9w"
   },
   "outputs": [],
   "source": [
    "mi_lista = [10, 34.5, 99999, 'abc', [1,2,3], ('ARG', 1810), {'pob': 45}, True]"
   ]
  },
  {
   "cell_type": "code",
   "execution_count": 8,
   "metadata": {
    "id": "SAJgEiNEFQAS"
   },
   "outputs": [
    {
     "name": "stdout",
     "output_type": "stream",
     "text": [
      "10 es <class 'int'>\n",
      "34.5 es <class 'float'>\n",
      "99999 es <class 'int'>\n",
      "abc es <class 'str'>\n",
      "[1, 2, 3] es <class 'list'>\n",
      "('ARG', 1810) es <class 'tuple'>\n",
      "{'pob': 45} es <class 'dict'>\n",
      "True es <class 'bool'>\n"
     ]
    }
   ],
   "source": [
    "# Resolver acá\n",
    "\n",
    "# Se elabora un loop que recorre por los elementos de la lista \"mi_lista\" y se imprime el tipo de objeto que la compone\n",
    "for elemento in mi_lista:\n",
    "    print(elemento, \"es\", type(elemento))"
   ]
  },
  {
   "cell_type": "markdown",
   "metadata": {
    "id": "y1lncitl-c9x"
   },
   "source": [
    "#### Ejercicio 7\n",
    "Ahora definan ustedes una nueva lista, en la que los primeros cuatro elementos sean palabras (strings), el quinto elemento no sea string, y el sexto sea string. Construyan un for loop que corra por la lista y que imprima la palabra y la longitud de la misma. Que el loop contenga una sentencia condicional que imprima un cartel \"Elemento no es un string: < el elemento > | < class del elemento >\" para los casos dónde el elemento evaluado no sea string."
   ]
  },
  {
   "cell_type": "code",
   "execution_count": 9,
   "metadata": {},
   "outputs": [
    {
     "name": "stdout",
     "output_type": "stream",
     "text": [
      "Lima tiene 4 letras\n",
      "es tiene 2 letras\n",
      "la tiene 2 letras\n",
      "capital tiene 7 letras\n",
      "Elemento no es un string: 4 <class 'int'>\n",
      "de Peru tiene 7 letras\n"
     ]
    }
   ],
   "source": [
    "# Resolver acá\n",
    "\n",
    "# Se genera la lista \"nueva_lista\"\n",
    "nueva_lista = ['Lima', 'es', 'la', 'capital', 4, 'de Peru']\n",
    "\n",
    "# Se genera un loop que indica que imprime el elemento y la cantidad de letras que tiene si este es un string. De\n",
    "# no ser así se señala que no es un string y se imprime el tipo de elemento que es.\n",
    "for elemento in nueva_lista:\n",
    "    if type(elemento) == str:\n",
    "        print(elemento, \"tiene\", len(elemento), \"letras\")\n",
    "    else:\n",
    "        print(\"Elemento no es un string:\", elemento, type(elemento))"
   ]
  },
  {
   "cell_type": "markdown",
   "metadata": {
    "id": "PUpxDz72-c9x"
   },
   "source": [
    "#### Ejercicio 8\n",
    "Argentina tiene una representación legislativa proporcional en la cual la cantidad de diputados se debería ajustar según el tamaño de población de cada provincia. Otra característica de la representación legislativa del país es que hay una cantidad mínima de diputados por provincia (5). Esto genera un desbalance en la cantidad de ciudadanos por cada representante en el Congreso entre provincias.\n",
    "\n",
    "A continuación preparamos algunos ejemplos, dividiendo la población de cada provincia (según estimación para el 2022) por la cantidad de representantes en el Congreso para esa misma jurisdicción. También armamos el equivalente para el total país y una lista con los valores provinciales.\n",
    "\n",
    "En este ejercicio les pedimos que construyan un for loop que itere sobre el diccionario definido y compare cada valor provincial contra el valor de proporcionalidad directa (la variable argentina). El loop debe imprimir una leyenda que indique si la provincia está sobrerepresentada, subrepresentada o con representación proporcional. Además, queremos que el mismo loop compare los valores de las provincias sobrerepresentadas y que guarde el valor de la provincia con mayor sobrerepresentación. Luego del loop impriman este valor así podemos ver que haya funcionado.\n",
    "\n",
    "Fuente para población: https://es.wikipedia.org/wiki/Demograf%C3%ADa_de_Argentina\n",
    "\n",
    "Fuente para representantes: https://es.wikipedia.org/wiki/C%C3%A1mara_de_Diputados_de_la_Naci%C3%B3n_Argentina"
   ]
  },
  {
   "cell_type": "code",
   "execution_count": 10,
   "metadata": {
    "id": "hd8Z5AHs-c9y"
   },
   "outputs": [
    {
     "name": "stdout",
     "output_type": "stream",
     "text": [
      "179162.26848249027\n"
     ]
    }
   ],
   "source": [
    "# Valor de referencia: proporcionalidad\n",
    "argentina = 46044703 / 257\n",
    "\n",
    "print(argentina)\n",
    "\n",
    "# Creamos variables para una selección de jurisdicciones\n",
    "cordoba = 3978984 / 18\n",
    "santa_fe = 3556522 / 19\n",
    "mendoza = 2014533 / 10\n",
    "buenos_aires = 17569053 / 70\n",
    "entre_rios =  1426426 / 9\n",
    "santa_cruz = 333473 / 5\n",
    "formosa = 606041 / 5\n",
    "\n",
    "# Definimos el diccionario para iterar\n",
    "dict_provincias = {\n",
    "    \"Córdoba\": cordoba,\n",
    "    \"Santa Fe\": santa_fe,\n",
    "    \"Mendoza\": mendoza,\n",
    "    \"Buenos Aires\": buenos_aires,\n",
    "    \"Entre Ríos\": entre_rios,\n",
    "    \"Santa Cruz\": santa_cruz,\n",
    "    \"Formosa\": formosa\n",
    "}"
   ]
  },
  {
   "cell_type": "code",
   "execution_count": 11,
   "metadata": {
    "id": "fsEHnxiY-c9y",
    "scrolled": false
   },
   "outputs": [
    {
     "name": "stdout",
     "output_type": "stream",
     "text": [
      "La provincia Córdoba está subrerepresentada\n",
      "La provincia Santa Fe está subrerepresentada\n",
      "La provincia Mendoza está subrerepresentada\n",
      "La provincia Buenos Aires está subrerepresentada\n",
      "La provincia Entre Ríos está sobrerepresentada\n",
      "La provincia Santa Cruz está sobrerepresentada\n",
      "La provincia Formosa está sobrerepresentada\n",
      "Santa Cruz es la provincia con mayor sobrerepresentación\n"
     ]
    }
   ],
   "source": [
    "# Resolver acá\n",
    "\n",
    "# Se genera un diccionario el cual contiene a la proporción de representantes que existe en el país por cantidad\n",
    "# de habitantes. Esto se realiza con el fin de que en el siguiente loop se añadan a esta lista las provincias que\n",
    "# están sobrerepresentadas y compararlas para determinar cuál es la que está mayor sobrerepresentada.\n",
    "sobrerepresentada = {\"Argentina\": argentina}\n",
    "\n",
    "# El siguiente loop imprimirá si una provincia esta sobrerepresentada, subrepresentada o tiene\n",
    "# representación proporcional\n",
    "for provincia in dict_provincias.keys():\n",
    "    # Si el ratio población/representantes de la provincia es menor que la nacional, entonces la provincia en\n",
    "    # está sobrerepresentada. Es decir, existen más representantes de los que deberían tener según su cantidad de\n",
    "    # población para que estén representadas proporcionalmente. Asimismo, como se mencionó anteriormente, las\n",
    "    # siguientes líneas de código agregan las provincias que cumplen esta condición al diccionario \"sobrerepresentada\"\n",
    "    if dict_provincias[provincia] < argentina:\n",
    "        sobrerepresentada[provincia] = dict_provincias[provincia]\n",
    "        print(\"La provincia\", provincia, \"está sobrerepresentada\")\n",
    "    elif dict_provincias[provincia] > argentina:\n",
    "        print(\"La provincia\", provincia, \"está subrerepresentada\")\n",
    "    elif dict_provincias[provincia] == argentina:\n",
    "        print(\"La provincia\", provincia, \"está tiene una representación proporcional\")\n",
    "    # Se define a la provincia mayor sobrerepresentada como la provincia que tiene el menor ratio población/representantes    \n",
    "    mayor_sobrerepresentada = min(sobrerepresentada, key = sobrerepresentada.get)\n",
    "\n",
    "# Se imprime la provincia mayor sobrerepresentada\n",
    "print(mayor_sobrerepresentada, \"es la provincia con mayor sobrerepresentación\")"
   ]
  },
  {
   "cell_type": "markdown",
   "metadata": {
    "id": "GokZe5tV-c9z"
   },
   "source": [
    "#### Ejercicio 9\n",
    "Si buscáramos minimizar la subrepresentación de la provincia de Buenos Aires, ¿cuántos representantes debería tener según el Censo 2022? Usemos el mismo criterio de sub/sobrerepresentacion que en el ejercicio anterior: población sobre cantidad de representantes.\n",
    "\n",
    "Para responder esta pregunta construyan un while loop que incremente de a uno la cantidad de representantes de la Provincia hasta minimizar la subrepresentación. En cada iteración impriman un cartel que diga: \"Se agregó un representante, el total ahora es X\" dónde X es el número de representantes simulado."
   ]
  },
  {
   "cell_type": "code",
   "execution_count": 12,
   "metadata": {
    "id": "x9DvuXa_-c9z"
   },
   "outputs": [],
   "source": [
    "# Estos son los valores de la provincia\n",
    "representantes_pba = 70\n",
    "poblacion2010_pba = 17594428\n",
    "\n",
    "\n",
    "# Y el valor de referencia nacional\n",
    "argentina = 46044703 / 257"
   ]
  },
  {
   "cell_type": "code",
   "execution_count": 13,
   "metadata": {
    "scrolled": true
   },
   "outputs": [
    {
     "name": "stdout",
     "output_type": "stream",
     "text": [
      "Se agregó un representante, ahora el total es 71\n",
      "Se agregó un representante, ahora el total es 72\n",
      "Se agregó un representante, ahora el total es 73\n",
      "Se agregó un representante, ahora el total es 74\n",
      "Se agregó un representante, ahora el total es 75\n",
      "Se agregó un representante, ahora el total es 76\n",
      "Se agregó un representante, ahora el total es 77\n",
      "Se agregó un representante, ahora el total es 78\n",
      "Se agregó un representante, ahora el total es 79\n",
      "Se agregó un representante, ahora el total es 80\n",
      "Se agregó un representante, ahora el total es 81\n",
      "Se agregó un representante, ahora el total es 82\n",
      "Se agregó un representante, ahora el total es 83\n",
      "Se agregó un representante, ahora el total es 84\n",
      "Se agregó un representante, ahora el total es 85\n",
      "Se agregó un representante, ahora el total es 86\n",
      "Se agregó un representante, ahora el total es 87\n",
      "Se agregó un representante, ahora el total es 88\n",
      "Se agregó un representante, ahora el total es 89\n",
      "Se agregó un representante, ahora el total es 90\n",
      "Se agregó un representante, ahora el total es 91\n",
      "Se agregó un representante, ahora el total es 92\n",
      "Se agregó un representante, ahora el total es 93\n",
      "Se agregó un representante, ahora el total es 94\n",
      "Se agregó un representante, ahora el total es 95\n",
      "Se agregó un representante, ahora el total es 96\n",
      "Se agregó un representante, ahora el total es 97\n",
      "Se agregó un representante, ahora el total es 98\n"
     ]
    }
   ],
   "source": [
    "# Resolver acá\n",
    "\n",
    "# Mientras que la provincia de Buenos Aires esté subrepresentada, se agregará a un represenante hasta que\n",
    "# se minimice la subrepresentación. Es decir, se considerará a un representante adicional hasta el momento justo en\n",
    "# el que el ratio para Buenos Aires sigue siendo mayor que el de Argentina, pero que si se añade un representante\n",
    "# más, pasará a ser sobrerepresentada. Por ello, se le añade un representante en el loop porque este mismo añadirá\n",
    "# representantes hasta que Buenos Aires esté sobrerepresentada con 99 representantes. Esto permitirá que al\n",
    "# imprimir el resultado se llegué a la cantidad de representantes que minimice la subrepresentación y evitando así\n",
    "# que el loop añada a un representante de más.\n",
    "while poblacion2010_pba/(representantes_pba + 1) > argentina:\n",
    "    representantes_pba += 1\n",
    "    print(\"Se agregó un representante, ahora el total es\", representantes_pba)"
   ]
  },
  {
   "cell_type": "code",
   "execution_count": 14,
   "metadata": {
    "scrolled": true
   },
   "outputs": [
    {
     "name": "stdout",
     "output_type": "stream",
     "text": [
      "179162.26848249027\n",
      "179534.97959183675\n",
      "177721.49494949495 es menor que  179162.26848249027\n"
     ]
    }
   ],
   "source": [
    "# Ambos valores son cercanos, pero argentina sigue teniendo un menor ratio. Se ve que si se hubiera añadido un\n",
    "# representante adicional, entonces Buenos Aires estaría sobrerepresentada.\n",
    "print(argentina)\n",
    "print(poblacion2010_pba/representantes_pba)\n",
    "print(poblacion2010_pba/(representantes_pba + 1), \"es menor que \", argentina)\n"
   ]
  },
  {
   "cell_type": "markdown",
   "metadata": {},
   "source": [
    "#### Ejercicio 10\n",
    "Construyan una función llamada suma que tome una cantidad variable de parámetros y devuelva el resultado de la suma."
   ]
  },
  {
   "cell_type": "code",
   "execution_count": 15,
   "metadata": {},
   "outputs": [
    {
     "name": "stdout",
     "output_type": "stream",
     "text": [
      "6\n",
      "41\n"
     ]
    }
   ],
   "source": [
    "# Resolver acá\n",
    "\n",
    "def suma(*parametros):\n",
    "    resultado = sum(parametros)\n",
    "    return resultado\n",
    "\n",
    "# Ejemplos para probar la función\n",
    "print(suma(1,2,3))\n",
    "print(suma(1,2,3,5,6,7,8,9))"
   ]
  }
 ],
 "metadata": {
  "anaconda-cloud": {},
  "colab": {
   "name": "TP1 - Parte 1.ipynb",
   "provenance": []
  },
  "kernelspec": {
   "display_name": "Python 3 (ipykernel)",
   "language": "python",
   "name": "python3"
  },
  "language_info": {
   "codemirror_mode": {
    "name": "ipython",
    "version": 3
   },
   "file_extension": ".py",
   "mimetype": "text/x-python",
   "name": "python",
   "nbconvert_exporter": "python",
   "pygments_lexer": "ipython3",
   "version": "3.9.18"
  }
 },
 "nbformat": 4,
 "nbformat_minor": 1
}
